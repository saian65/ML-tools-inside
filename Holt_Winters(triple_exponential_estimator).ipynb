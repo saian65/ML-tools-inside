{
  "nbformat": 4,
  "nbformat_minor": 0,
  "metadata": {
    "colab": {
      "name": "Holt-Winters(triple exponential estimator).ipynb",
      "provenance": [],
      "collapsed_sections": [],
      "authorship_tag": "ABX9TyPR/m8jdPI32fdgz8gIs46p",
      "include_colab_link": true
    },
    "kernelspec": {
      "name": "python3",
      "display_name": "Python 3"
    },
    "language_info": {
      "name": "python"
    }
  },
  "cells": [
    {
      "cell_type": "markdown",
      "metadata": {
        "id": "view-in-github",
        "colab_type": "text"
      },
      "source": [
        "<a href=\"https://colab.research.google.com/github/taranovaE/BaseMLAlgorithmsFromScratch/blob/Holt-Winters/Holt_Winters(triple_exponential_estimator).ipynb\" target=\"_parent\"><img src=\"https://colab.research.google.com/assets/colab-badge.svg\" alt=\"Open In Colab\"/></a>"
      ]
    },
    {
      "cell_type": "code",
      "source": [
        "#реализация модели тройного экспоненциального сглаживания"
      ],
      "metadata": {
        "id": "Jt6s2dTBjrhc"
      },
      "execution_count": null,
      "outputs": []
    },
    {
      "cell_type": "code",
      "source": [
        "import numpy as np"
      ],
      "metadata": {
        "id": "s1ic0x5EjmBX"
      },
      "execution_count": 6,
      "outputs": []
    },
    {
      "cell_type": "code",
      "execution_count": 1,
      "metadata": {
        "id": "3AbhQHMNiak0"
      },
      "outputs": [],
      "source": [
        "class HoltWinters:\n",
        "    # series - исходный временной ряд\n",
        "    # slen - длина сезона\n",
        "    # alpha, beta, gamma - параметры\n",
        "    # n_preds - горизонт предсказаний\n",
        "    # scaling_factor - задаёт ширину доверительного интервала по Брутлагу \n",
        "    #(обычно принимает значения от 2 до 3)\n",
        "    def __init__(self, series, slen, alpha, beta, gamma, n_preds, scaling_factor=1.96):\n",
        "        self.series = series\n",
        "        self.slen = slen\n",
        "        self.alpha = alpha\n",
        "        self.beta = beta\n",
        "        self.gamma = gamma\n",
        "        self.n_preds = n_preds\n",
        "        self.scaling_factor = scaling_factor\n",
        "\n",
        "    def initial_trend(self):\n",
        "        sum = 0.0\n",
        "        for i in range(self.slen):\n",
        "            sum += float(self.series[i+self.slen] - self.series[i]) / self.slen\n",
        "        return sum / self.slen  \n",
        "\n",
        "    def initial_seasonal_components(self):\n",
        "        seasonals = {}\n",
        "        season_averages = []\n",
        "        n_seasons = int(len(self.series)/self.slen)\n",
        "        #сезонные средние\n",
        "        for j in range(n_seasons):\n",
        "            season_averages.append(sum(self.series[self.slen*j:self.slen*j+self.slen])/float(self.slen))\n",
        "        #начальные значения\n",
        "        for i in range(self.slen):\n",
        "            sum_of_vals_over_avg = 0.0\n",
        "            for j in range(n_seasons):\n",
        "                sum_of_vals_over_avg += self.series[self.slen*j+i]-season_averages[j]\n",
        "            seasonals[i] = sum_of_vals_over_avg/n_seasons\n",
        "        return seasonals   \n",
        "\n",
        "    def triple_exponential_smoothing(self):\n",
        "        self.result = []\n",
        "        self.Smooth = []\n",
        "        self.Season = []\n",
        "        self.Trend = []\n",
        "        self.PredictedDeviation = []\n",
        "        self.UpperBond = []\n",
        "        self.LowerBond = []\n",
        "\n",
        "        seasonals = self.initial_seasonal_components()\n",
        "\n",
        "        for i in range(len(self.series)+self.n_preds):\n",
        "            if i == 0: # инициализируем значения компонент\n",
        "                smooth = self.series[0]\n",
        "                trend = self.initial_trend()\n",
        "                self.result.append(self.series[0])\n",
        "                self.Smooth.append(smooth)\n",
        "                self.Trend.append(trend)\n",
        "                self.Season.append(seasonals[i%self.slen])\n",
        "\n",
        "                self.PredictedDeviation.append(0)\n",
        "\n",
        "                self.UpperBond.append(self.result[0] + \n",
        "                                      self.scaling_factor * \n",
        "                                      self.PredictedDeviation[0])\n",
        "\n",
        "                self.LowerBond.append(self.result[0] - \n",
        "                                      self.scaling_factor * \n",
        "                                      self.PredictedDeviation[0])\n",
        "\n",
        "                continue\n",
        "            if i >= len(self.series): # прогнозируем\n",
        "                m = i - len(self.series) + 1\n",
        "                self.result.append((smooth + m*trend) + seasonals[i%self.slen])\n",
        "\n",
        "                # во время прогноза с каждым шагом увеличиваем неопределенность\n",
        "                self.PredictedDeviation.append(self.PredictedDeviation[-1]*1.01) \n",
        "\n",
        "            else:\n",
        "                val = self.series[i]\n",
        "                last_smooth, smooth = smooth, self.alpha*(val-seasonals[i%self.slen]) + (1-self.alpha)*(smooth+trend)\n",
        "                trend = self.beta * (smooth-last_smooth) + (1-self.beta)*trend\n",
        "                seasonals[i%self.slen] = self.gamma*(val-smooth) + (1-self.gamma)*seasonals[i%self.slen]\n",
        "                self.result.append(smooth+trend+seasonals[i%self.slen])\n",
        "\n",
        "                # Отклонение рассчитывается в соответствии с алгоритмом Брутлага\n",
        "                self.PredictedDeviation.append(self.gamma * np.abs(self.series[i] - self.result[i]) \n",
        "                                               + (1-self.gamma)*self.PredictedDeviation[-1])\n",
        "\n",
        "            self.UpperBond.append(self.result[-1] + \n",
        "                                  self.scaling_factor * \n",
        "                                  self.PredictedDeviation[-1])\n",
        "\n",
        "            self.LowerBond.append(self.result[-1] - \n",
        "                                  self.scaling_factor * \n",
        "                                  self.PredictedDeviation[-1])\n",
        "\n",
        "            self.Smooth.append(smooth)\n",
        "            self.Trend.append(trend)\n",
        "            self.Season.append(seasonals[i % self.slen])"
      ]
    },
    {
      "cell_type": "code",
      "source": [
        "def HoltWinters_fit(ts,s_len=2,alpha = 0.1,beta = 0.1,gamma = 0.1,prediction_interval=1):\n",
        "    model = HoltWinters(ts, s_len, alpha, beta, gamma,prediction_interval)\n",
        "    model.triple_exponential_smoothing()\n",
        "    return model.result[len(ts):]"
      ],
      "metadata": {
        "id": "2WvALY6Ei2aN"
      },
      "execution_count": 3,
      "outputs": []
    },
    {
      "cell_type": "code",
      "source": [
        "import pandas as pd\n",
        "\n",
        "ts = pd.Series([0,1,1,1,1,1,1,1,1,1,1,1,1,1,1,1,1,1,1,1,1,1,1,1,1,1,1,1,1])\n",
        "HoltWinters_fit(ts)"
      ],
      "metadata": {
        "colab": {
          "base_uri": "https://localhost:8080/"
        },
        "id": "m5Z_f-mJjSB1",
        "outputId": "40f14508-0f4b-41cc-c161-8190b1f66991"
      },
      "execution_count": 7,
      "outputs": [
        {
          "output_type": "execute_result",
          "data": {
            "text/plain": [
              "[1.5448230551714222]"
            ]
          },
          "metadata": {},
          "execution_count": 7
        }
      ]
    }
  ]
}