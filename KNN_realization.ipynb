{
  "nbformat": 4,
  "nbformat_minor": 0,
  "metadata": {
    "colab": {
      "name": "KNN realization.ipynb",
      "provenance": [],
      "collapsed_sections": [],
      "authorship_tag": "ABX9TyOpwUwLH00e46hLadezf27/",
      "include_colab_link": true
    },
    "kernelspec": {
      "name": "python3",
      "display_name": "Python 3"
    },
    "language_info": {
      "name": "python"
    }
  },
  "cells": [
    {
      "cell_type": "markdown",
      "metadata": {
        "id": "view-in-github",
        "colab_type": "text"
      },
      "source": [
        "<a href=\"https://colab.research.google.com/github/taranovaE/ML-tools-inside/blob/KNN-realization/KNN_realization.ipynb\" target=\"_parent\"><img src=\"https://colab.research.google.com/assets/colab-badge.svg\" alt=\"Open In Colab\"/></a>"
      ]
    },
    {
      "cell_type": "markdown",
      "source": [
        "реализация алгоритма классиффикации KNN на python"
      ],
      "metadata": {
        "id": "gcvXryWAFUUu"
      }
    },
    {
      "cell_type": "code",
      "execution_count": null,
      "metadata": {
        "id": "1tR0XUU8uptW"
      },
      "outputs": [],
      "source": [
        "import pandas as pd"
      ]
    },
    {
      "cell_type": "code",
      "source": [
        "def dataset_minimax(dataset):\n",
        "    minmax = list()\n",
        "    for i in range(len(dataset[0])):\n",
        "        if i == len(dataset[0]) - 1:\n",
        "            continue\n",
        "        value_min = dataset[:,i].min()\n",
        "        value_max = dataset[:,i].max()\n",
        "        minmax.append([value_min,value_max])\n",
        "    return minmax"
      ],
      "metadata": {
        "id": "iePVlxmWoU5V"
      },
      "execution_count": null,
      "outputs": []
    },
    {
      "cell_type": "code",
      "source": [
        "#нормализация методом минимаксов.\n",
        "# из каждого значения столбца вычитается минимальное значение этого столбца\n",
        "# и делится на разность максимального и минимального значения этого столбца\n",
        "def normalize(dataset,min_max):\n",
        "    for column,i in zip(dataset.columns[:len(dataset.columns)-1],min_max):\n",
        "        dataset[column] = (dataset[column] - i[0])/(i[1]-i[0])\n",
        "    return dataset"
      ],
      "metadata": {
        "id": "3L3bdDF10E0-"
      },
      "execution_count": null,
      "outputs": []
    },
    {
      "cell_type": "code",
      "source": [
        "#функция где выбирается способ по которому ближайште соседи будут определять класс нового объекта\n",
        "def predict(train,test,num_neighbours):\n",
        "    neighbours = get_neighbours(train,test,num_neighbours)\n",
        "    label = max(set(neighbours),key = neighbours.count)\n",
        "    return label"
      ],
      "metadata": {
        "id": "EXLTcFTxME7Q"
      },
      "execution_count": null,
      "outputs": []
    },
    {
      "cell_type": "code",
      "source": [
        "#функция возвращающая ближайших соседей посредством измерения расстрояния между всеми\n",
        "def get_neighbours(train,test,num_neighbours):\n",
        "    distances = dict()\n",
        "    classes = dict()\n",
        "    for train_vec,i in zip(train.values,range(0,len(train.values))):\n",
        "        dist = euclidean_distance(train_vec[:len(train_vec)-1],test.values[0])\n",
        "        distances[i] = dist\n",
        "        classes[i] = train_vec[len(train_vec)-1]\n",
        "    distances = sort_dict_ascending(distances,num_neighbours)\n",
        "    neighbours = list()\n",
        "    for key,value in distances.items():\n",
        "        neighbours.append(classes[key])\n",
        "    return neighbours"
      ],
      "metadata": {
        "id": "c52MCl7h6t9D"
      },
      "execution_count": null,
      "outputs": []
    },
    {
      "cell_type": "code",
      "source": [
        "#функция сортирует словарь по значению и возвращает первые n значений\n",
        "#соответствующие количеству ближайших соседей\n",
        "def sort_dict_ascending(old_dict,num_neighbours):\n",
        "    new_dict = dict()\n",
        "    for k in sorted(old_dict, key=old_dict.get, reverse=False)[:num_neighbours]:\n",
        "        new_dict[k] = old_dict[k]\n",
        "    return new_dict"
      ],
      "metadata": {
        "id": "yAdG8EdFyK8x"
      },
      "execution_count": null,
      "outputs": []
    },
    {
      "cell_type": "code",
      "source": [
        "import math\n",
        "import random\n",
        "#функция измеряющая евклидово расстояние между двумя веторами\n",
        "def euclidean_distance(vector_1,vector_2):\n",
        "    return random.random()\n",
        "    distance = 0.0\n",
        "    for i in range(len(vector_1)):\n",
        "        distance += (vector_1[i]-vector_2[i])**2    \n",
        "    return distance ** (0.5)"
      ],
      "metadata": {
        "id": "w4J0HqkdEW9X"
      },
      "execution_count": null,
      "outputs": []
    },
    {
      "cell_type": "code",
      "source": [
        "dataset = pd.read_csv('irises.csv')\n",
        "dataset = dataset.drop(columns=['Id'])"
      ],
      "metadata": {
        "id": "1PyhXRZLtmnV"
      },
      "execution_count": null,
      "outputs": []
    },
    {
      "cell_type": "code",
      "source": [
        "min_max = dataset_minimax(dataset.values)\n",
        "dataset = normalize(dataset,min_max)"
      ],
      "metadata": {
        "id": "w4iqNbSevtAw"
      },
      "execution_count": null,
      "outputs": []
    },
    {
      "cell_type": "code",
      "source": [
        "num_neighbours = 5\n",
        "target = pd.DataFrame(dict(zip(dataset.columns[:len(dataset.columns)-1],[1.0,0.4,0.6,0.7])),index=[0])\n",
        "normalized_target = target.copy()\n",
        "normalized_target = normalize(normalized_target,min_max)"
      ],
      "metadata": {
        "id": "vtxu_ik9-ufq"
      },
      "execution_count": null,
      "outputs": []
    },
    {
      "cell_type": "code",
      "source": [
        "label = predict(dataset,normalized_target,num_neighbours)\n",
        "print(\"predicted label is :\",label)"
      ],
      "metadata": {
        "colab": {
          "base_uri": "https://localhost:8080/"
        },
        "id": "YAVcgG-lEMF9",
        "outputId": "507b3c2d-969f-401e-bf41-f72947312f71"
      },
      "execution_count": null,
      "outputs": [
        {
          "output_type": "stream",
          "name": "stdout",
          "text": [
            "predicted label is : Iris-setosa\n"
          ]
        }
      ]
    },
    {
      "cell_type": "code",
      "source": [
        ""
      ],
      "metadata": {
        "id": "8_u2AN_sUoid"
      },
      "execution_count": null,
      "outputs": []
    }
  ]
}