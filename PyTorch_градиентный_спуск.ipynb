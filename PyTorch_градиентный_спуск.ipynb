{
  "nbformat": 4,
  "nbformat_minor": 0,
  "metadata": {
    "colab": {
      "name": "PyTorch градиентный спуск.ipynb",
      "provenance": [],
      "collapsed_sections": [],
      "authorship_tag": "ABX9TyMTL2+W09Te8Kxlx4NY17RT",
      "include_colab_link": true
    },
    "kernelspec": {
      "name": "python3",
      "display_name": "Python 3"
    },
    "language_info": {
      "name": "python"
    }
  },
  "cells": [
    {
      "cell_type": "markdown",
      "metadata": {
        "id": "view-in-github",
        "colab_type": "text"
      },
      "source": [
        "<a href=\"https://colab.research.google.com/github/saian65/ML-tools-inside/blob/gradient-descent/PyTorch_%D0%B3%D1%80%D0%B0%D0%B4%D0%B8%D0%B5%D0%BD%D1%82%D0%BD%D1%8B%D0%B9_%D1%81%D0%BF%D1%83%D1%81%D0%BA.ipynb\" target=\"_parent\"><img src=\"https://colab.research.google.com/assets/colab-badge.svg\" alt=\"Open In Colab\"/></a>"
      ]
    },
    {
      "cell_type": "markdown",
      "source": [
        "реализация обычного градиентного спука"
      ],
      "metadata": {
        "id": "4fl92vwy9vew"
      }
    },
    {
      "cell_type": "code",
      "source": [
        "import torch"
      ],
      "metadata": {
        "id": "bOZa3LD_941k"
      },
      "execution_count": null,
      "outputs": []
    },
    {
      "cell_type": "code",
      "source": [
        "x = torch.tensor([8.,8.],requires_grad=True)"
      ],
      "metadata": {
        "id": "gNynQ05jFGq2"
      },
      "execution_count": null,
      "outputs": []
    },
    {
      "cell_type": "code",
      "source": [
        "def parabola(x):\n",
        "    return 10 * (x**2).sum()"
      ],
      "metadata": {
        "id": "beQb8E5_FSw0"
      },
      "execution_count": null,
      "outputs": []
    },
    {
      "cell_type": "code",
      "source": [
        "def make_gradient_step(loss_function,variable):\n",
        "    func_result = loss_function(variable)\n",
        "    func_result.backward()\n",
        "    variable.data -= 0.001*variable.grad\n",
        "    variable.grad.zero_()"
      ],
      "metadata": {
        "id": "7cMU84r-74aX"
      },
      "execution_count": null,
      "outputs": []
    },
    {
      "cell_type": "code",
      "source": [
        "for i in range(500):\n",
        "    make_gradient_step(parabola,x)"
      ],
      "metadata": {
        "id": "qg9SxiOfJtcc"
      },
      "execution_count": null,
      "outputs": []
    }
  ]
}