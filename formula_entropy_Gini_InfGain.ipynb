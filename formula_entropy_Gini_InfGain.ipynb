{
  "nbformat": 4,
  "nbformat_minor": 0,
  "metadata": {
    "colab": {
      "name": "formula_entropy_Gini_InfGain.ipynb",
      "provenance": [],
      "collapsed_sections": [],
      "authorship_tag": "ABX9TyPuG86JHzztdw5cY2xY2M7E",
      "include_colab_link": true
    },
    "kernelspec": {
      "name": "python3",
      "display_name": "Python 3"
    },
    "language_info": {
      "name": "python"
    }
  },
  "cells": [
    {
      "cell_type": "markdown",
      "metadata": {
        "id": "view-in-github",
        "colab_type": "text"
      },
      "source": [
        "<a href=\"https://colab.research.google.com/github/saian65/ML-tools-inside/blob/random-forest-criterions/formula_entropy_Gini_InfGain.ipynb\" target=\"_parent\"><img src=\"https://colab.research.google.com/assets/colab-badge.svg\" alt=\"Open In Colab\"/></a>"
      ]
    },
    {
      "cell_type": "code",
      "metadata": {
        "id": "rQrExe87IMnf"
      },
      "source": [
        "import numpy as np\n",
        "from collections import Counter"
      ],
      "execution_count": null,
      "outputs": []
    },
    {
      "cell_type": "code",
      "metadata": {
        "id": "co0V0guCLHOX"
      },
      "source": [
        "def Entropy(l):\n",
        "  length = len(l)\n",
        "  cnt = Counter(l)\n",
        "  ps = [v/length for v in cnt]\n",
        "  H = -sum([p*np.log(p) for p in ps])\n",
        "  return H"
      ],
      "execution_count": null,
      "outputs": []
    },
    {
      "cell_type": "code",
      "metadata": {
        "id": "TZj8XiTquGX6"
      },
      "source": [
        "def Gini(l):\n",
        "  length = len(l)\n",
        "  cnt = Counter(l)\n",
        "  ps = [v/length for v in cnt]\n",
        "  H = sum([p*(1-p) for p in ps])\n",
        "  return H"
      ],
      "execution_count": null,
      "outputs": []
    },
    {
      "cell_type": "code",
      "metadata": {
        "id": "4VprVeODxMeh"
      },
      "source": [
        "def IG(H, l ,i):\n",
        "  length = len(l)\n",
        "  return H(l) - i/length*H(l[:i]) - (length-i)/length*H(l[i:])"
      ],
      "execution_count": null,
      "outputs": []
    }
  ]
}